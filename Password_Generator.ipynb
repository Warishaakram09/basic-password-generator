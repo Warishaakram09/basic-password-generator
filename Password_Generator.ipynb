{
  "nbformat": 4,
  "nbformat_minor": 0,
  "metadata": {
    "colab": {
      "provenance": []
    },
    "kernelspec": {
      "name": "python3",
      "display_name": "Python 3"
    },
    "language_info": {
      "name": "python"
    }
  },
  "cells": [
    {
      "cell_type": "code",
      "execution_count": null,
      "metadata": {
        "id": "6QRvTpoDe5sd"
      },
      "outputs": [],
      "source": [
        "import random\n",
        "\n",
        "letters = \"abcdefghijklmnopqrstuvwxyzABCDEFGHIJKLMNOPQRSTUVWXYZ\"\n",
        "numbers = \"0123456789\"\n",
        "symbols = \"!@#$%^&*()?\"\n",
        "\n",
        "all_chars = letters + numbers + symbols\n",
        "\n",
        "length = int(input(\"Enter password length: \"))\n",
        "\n",
        "password = \"\"\n",
        "for i in range(length):\n",
        "    password += random.choice(all_chars)\n",
        "\n",
        "print(\"🔐 Your password is:\", password)\n"
      ]
    }
  ]
}